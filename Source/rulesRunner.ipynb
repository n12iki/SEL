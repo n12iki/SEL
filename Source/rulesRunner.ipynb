{
  "cells": [
    {
      "cell_type": "markdown",
      "metadata": {
        "id": "FVmnaxFJvsb8"
      },
      "source": [
        "# RULES Tutorial\n",
        "Nikita Belooussov "
      ]
    },
    {
      "cell_type": "markdown",
      "metadata": {},
      "source": [
        "This script was devloped using python 3.8.13. The list of requirements can be seen below.\n",
        "sklearn==1.0.2\n",
        "python==3.8.13\n",
        "numpy==1.21.2\n",
        "pandas==1.4.1\n",
        "scipy==1.7.3\n"
      ]
    },
    {
      "cell_type": "markdown",
      "metadata": {},
      "source": [
        "The cell below well create the csv files requried to run the train and test scripts if necessary. If they already exsist not necessary to run.\n",
        "Commands for the different datasets:\n",
        "iris-python arffToCSV.py iris.arff\n",
        "pima-diabetes-python arffToCSV.py pima_diabetes.arff\n",
        "fire- python arffToCSV.py Fire.arff"
      ]
    },
    {
      "cell_type": "code",
      "execution_count": 12,
      "metadata": {},
      "outputs": [
        {
          "name": "stdout",
          "output_type": "stream",
          "text": [
            "/home/n12i/Documents/GitHub/SEL\n",
            "/home/n12i/Documents/GitHub/SEL/Dataset\n",
            "Finished conversion\n",
            "/home/n12i/Documents/GitHub/SEL\n",
            "/home/n12i/Documents/GitHub/SEL/Source\n"
          ]
        }
      ],
      "source": [
        "%cd ..\n",
        "%cd Dataset\n",
        "!python arffToCSV.py iris.arff\n",
        "%cd ..\n",
        "%cd Source\n"
      ]
    },
    {
      "cell_type": "markdown",
      "metadata": {},
      "source": [
        "The cell below should download the requirements, although it may have issues."
      ]
    },
    {
      "cell_type": "code",
      "execution_count": 2,
      "metadata": {},
      "outputs": [
        {
          "name": "stdout",
          "output_type": "stream",
          "text": [
            "Requirement already satisfied: sklearn in /home/n12i/anaconda3/envs/Test/lib/python3.8/site-packages (from -r requirements.txt (line 1)) (0.0)\n",
            "Requirement already satisfied: numpy in /home/n12i/anaconda3/envs/Test/lib/python3.8/site-packages (from -r requirements.txt (line 2)) (1.22.3)\n",
            "Requirement already satisfied: pandas in /home/n12i/anaconda3/envs/Test/lib/python3.8/site-packages (from -r requirements.txt (line 3)) (1.4.2)\n",
            "Requirement already satisfied: scipy in /home/n12i/anaconda3/envs/Test/lib/python3.8/site-packages (from -r requirements.txt (line 4)) (1.8.0)\n",
            "Requirement already satisfied: scikit-learn in /home/n12i/anaconda3/envs/Test/lib/python3.8/site-packages (from sklearn->-r requirements.txt (line 1)) (1.0.2)\n",
            "Requirement already satisfied: pytz>=2020.1 in /home/n12i/anaconda3/envs/Test/lib/python3.8/site-packages (from pandas->-r requirements.txt (line 3)) (2022.1)\n",
            "Requirement already satisfied: python-dateutil>=2.8.1 in /home/n12i/anaconda3/envs/Test/lib/python3.8/site-packages (from pandas->-r requirements.txt (line 3)) (2.8.2)\n",
            "Requirement already satisfied: six>=1.5 in /home/n12i/anaconda3/envs/Test/lib/python3.8/site-packages (from python-dateutil>=2.8.1->pandas->-r requirements.txt (line 3)) (1.16.0)\n",
            "Requirement already satisfied: joblib>=0.11 in /home/n12i/anaconda3/envs/Test/lib/python3.8/site-packages (from scikit-learn->sklearn->-r requirements.txt (line 1)) (1.1.0)\n",
            "Requirement already satisfied: threadpoolctl>=2.0.0 in /home/n12i/anaconda3/envs/Test/lib/python3.8/site-packages (from scikit-learn->sklearn->-r requirements.txt (line 1)) (3.1.0)\n"
          ]
        }
      ],
      "source": [
        "!pip install -r requirements.txt"
      ]
    },
    {
      "cell_type": "markdown",
      "metadata": {},
      "source": [
        "The cell below runs the traiing script. It currently runs trains for the iris dataset.\n",
        "Command to train dataset\n",
        "iris  -  !python train.py iris\n",
        "pima_diabetes - !python train.py pima_diabetes\n",
        "fire - !python train.py Fire\n"
      ]
    },
    {
      "cell_type": "code",
      "execution_count": 13,
      "metadata": {},
      "outputs": [
        {
          "name": "stdout",
          "output_type": "stream",
          "text": [
            "            0         1         2     3\n",
            "0    0.714286  0.545455  0.550725  0.44\n",
            "1    0.701299  0.772727  0.246377  0.08\n",
            "2    0.649351  0.454545  0.507246  0.40\n",
            "3    0.688312  0.840909  0.217391  0.08\n",
            "4    0.714286  0.545455  0.536232  0.40\n",
            "..        ...       ...       ...   ...\n",
            "122  0.779221  0.613636  0.739130  0.64\n",
            "123  0.766234  0.681818  0.608696  0.60\n",
            "124  0.987013  0.681818  0.956522  0.84\n",
            "125  0.649351  0.772727  0.217391  0.08\n",
            "126  0.818182  0.568182  0.724638  0.76\n",
            "\n",
            "[127 rows x 4 columns]\n",
            "through columns:20.0\n",
            "through rules:0.0\n",
            "0.0\n",
            "\n",
            "\n",
            "\n",
            "through columns:40.0\n",
            "through rules:0.0\n",
            "0.7244094488188977\n",
            "\n",
            "\n",
            "\n",
            "through columns:60.0\n",
            "through rules:0.0\n",
            "0.7480314960629921\n",
            "\n",
            "\n",
            "\n",
            "through columns:60.0\n",
            "through rules:78.125\n",
            "0.7480314960629921\n",
            "\n",
            "\n",
            "\n",
            "through columns:80.0\n",
            "through rules:0.0\n",
            "0.7480314960629921\n",
            "\n",
            "\n",
            "\n",
            "through columns:80.0\n",
            "through rules:19.53125\n",
            "0.7480314960629921\n",
            "\n",
            "\n",
            "\n",
            "through columns:80.0\n",
            "through rules:39.0625\n",
            "0.7480314960629921\n",
            "\n",
            "\n",
            "\n",
            "through columns:80.0\n",
            "through rules:58.59375\n",
            "0.7480314960629921\n",
            "\n",
            "\n",
            "\n",
            "through columns:80.0\n",
            "through rules:78.125\n",
            "0.8031496062992126\n",
            "\n",
            "\n",
            "\n",
            "through columns:80.0\n",
            "through rules:97.65625\n",
            "0.9133858267716536\n",
            "\n",
            "\n",
            "\n",
            "[11, 18, 24, 29, 36, 51, 83, 85, 95, 107, 126]\n",
            "0.08661417322834646\n",
            "{'stats': {'col0': {'mean': 0.7580529706513958, 'std': 0.10287879011483284}, 'col1': {'mean': 0.6923765211166786, 'std': 0.09924207125126858}, 'col2': {'mean': 0.5436494351249572, 'std': 0.25266273623099056}, 'col3': {'mean': 0.4803149606299212, 'std': 0.3009903260743654}}, 'rules': {0: {'output': \"b'Iris-setosa'\", 'percentage': 0.33070866141732286, 'LabelPercentage': 1.0, 'rows': [1, 3, 6, 10, 12, 13, 14, 17, 22, 26, 28, 33, 38, 42, 43, 44, 47, 52, 57, 59, 61, 62, 63, 67, 68, 71, 76, 77, 78, 87, 89, 90, 94, 96, 105, 108, 109, 112, 114, 117, 121, 125], 'name': '2,lowerOut', 'forced': 'no'}, 1: {'output': \"b'Iris-virginica'\", 'percentage': 0.015748031496062992, 'LabelPercentage': 0.046511627906976744, 'rows': [5, 86], 'name': '1,higherOut', 'forced': 'no'}, 2: {'output': \"b'Iris-virginica'\", 'percentage': 0.15748031496062992, 'LabelPercentage': 0.46511627906976744, 'rows': [9, 16, 23, 25, 32, 37, 46, 49, 54, 55, 65, 82, 88, 92, 100, 101, 103, 118, 119, 124], 'name': '2,higherOut', 'forced': 'no'}, 3: {'output': \"b'Iris-virginica'\", 'percentage': 0.07086614173228346, 'LabelPercentage': 0.20930232558139536, 'rows': [19, 20, 27, 66, 70, 72, 75, 81, 97], 'name': '3,higherOut', 'forced': 'no'}, 4: {'output': \"b'Iris-versicolor'\", 'percentage': 0.05511811023622047, 'LabelPercentage': 0.16666666666666666, 'rows': [2, 4, 34, 53, 69, 79, 84], 'name': '2,lowerIn', 'forced': 'no'}, 5: {'output': \"b'Iris-versicolor'\", 'percentage': 0.03937007874015748, 'LabelPercentage': 0.11904761904761904, 'rows': [0, 73, 91, 116, 120], 'name': '3,lowerIn', 'forced': 'no'}, 6: {'output': \"b'Iris-versicolor'\", 'percentage': 0.05511811023622047, 'LabelPercentage': 0.16666666666666666, 'rows': [7, 39, 40, 50, 102, 106, 110], 'name': '1,higherIn', 'forced': 'no'}, 7: {'output': \"b'Iris-virginica'\", 'percentage': 0.007874015748031496, 'LabelPercentage': 0.023255813953488372, 'rows': [8], 'name': '0,lowerOut,1,lowerOut', 'forced': 'no'}, 8: {'output': \"b'Iris-versicolor'\", 'percentage': 0.015748031496062992, 'LabelPercentage': 0.047619047619047616, 'rows': [60, 111], 'name': '0,lowerIn,1,lowerOut', 'forced': 'no'}, 9: {'output': \"b'Iris-versicolor'\", 'percentage': 0.05511811023622047, 'LabelPercentage': 0.16666666666666666, 'rows': [15, 35, 45, 58, 64, 99, 115], 'name': '0,lowerIn,1,lowerIn,2,higherIn,3,higherIn', 'forced': 'yes'}, 10: {'output': \"b'Iris-versicolor'\", 'percentage': 0.023622047244094488, 'LabelPercentage': 0.07142857142857142, 'rows': [30, 48, 74], 'name': '0,higherIn,1,lowerOut,2,higherIn,3,higherIn', 'forced': 'yes'}, 11: {'output': \"b'Iris-versicolor'\", 'percentage': 0.08661417322834646, 'LabelPercentage': 0.2619047619047619, 'rows': [21, 31, 41, 56, 80, 93, 98, 104, 113, 122, 123], 'name': '0,higherIn,1,lowerIn,2,higherIn,3,higherIn', 'forced': 'yes'}}, 'trainingTotalPercentage': 91.33858267716536, 'trainingMissedLines': [11, 18, 24, 29, 36, 51, 83, 85, 95, 107, 126]}\n"
          ]
        }
      ],
      "source": [
        "!python train.py iris"
      ]
    },
    {
      "cell_type": "markdown",
      "metadata": {},
      "source": [
        "The cell below runs the testing script. This allows gets the analysis of how well the system is doing. It currently runs test for the iris dataset.\n",
        "Command to test dataset\n",
        "iris  -  !python test.py iris\n",
        "pima_diabetes - !python test.py pima_diabetes\n",
        "fire - !python test.py Fire"
      ]
    },
    {
      "cell_type": "code",
      "execution_count": 14,
      "metadata": {},
      "outputs": [
        {
          "name": "stdout",
          "output_type": "stream",
          "text": [
            "      0    1    2    3                   4\n",
            "0   4.8  3.0  1.4  0.1      b'Iris-setosa'\n",
            "1   5.5  2.6  4.4  1.2  b'Iris-versicolor'\n",
            "2   6.9  3.2  5.7  2.3   b'Iris-virginica'\n",
            "3   6.7  3.1  4.4  1.4  b'Iris-versicolor'\n",
            "4   5.8  2.7  4.1  1.0  b'Iris-versicolor'\n",
            "5   4.8  3.4  1.9  0.2      b'Iris-setosa'\n",
            "6   4.6  3.6  1.0  0.2      b'Iris-setosa'\n",
            "7   6.0  2.2  4.0  1.0  b'Iris-versicolor'\n",
            "8   5.1  3.8  1.9  0.4      b'Iris-setosa'\n",
            "9   4.4  2.9  1.4  0.2      b'Iris-setosa'\n",
            "10  6.7  3.3  5.7  2.1   b'Iris-virginica'\n",
            "11  7.7  2.8  6.7  2.0   b'Iris-virginica'\n",
            "12  6.4  2.8  5.6  2.1   b'Iris-virginica'\n",
            "13  5.2  2.7  3.9  1.4  b'Iris-versicolor'\n",
            "14  5.8  2.7  3.9  1.2  b'Iris-versicolor'\n",
            "15  6.4  3.2  5.3  2.3   b'Iris-virginica'\n",
            "16  4.6  3.1  1.5  0.2      b'Iris-setosa'\n",
            "17  6.7  3.0  5.0  1.7  b'Iris-versicolor'\n",
            "18  6.3  3.4  5.6  2.4   b'Iris-virginica'\n",
            "19  5.1  3.5  1.4  0.3      b'Iris-setosa'\n",
            "20  5.0  3.6  1.4  0.2      b'Iris-setosa'\n",
            "21  7.9  3.8  6.4  2.0   b'Iris-virginica'\n",
            "22  6.8  2.8  4.8  1.4  b'Iris-versicolor'\n",
            "           0         1         2         3\n",
            "0   0.607595  0.789474  0.208955  0.041667\n",
            "1   0.696203  0.684211  0.656716  0.500000\n",
            "2   0.873418  0.842105  0.850746  0.958333\n",
            "3   0.848101  0.815789  0.656716  0.583333\n",
            "4   0.734177  0.710526  0.611940  0.416667\n",
            "5   0.607595  0.894737  0.283582  0.083333\n",
            "6   0.582278  0.947368  0.149254  0.083333\n",
            "7   0.759494  0.578947  0.597015  0.416667\n",
            "8   0.645570  1.000000  0.283582  0.166667\n",
            "9   0.556962  0.763158  0.208955  0.083333\n",
            "10  0.848101  0.868421  0.850746  0.875000\n",
            "11  0.974684  0.736842  1.000000  0.833333\n",
            "12  0.810127  0.736842  0.835821  0.875000\n",
            "13  0.658228  0.710526  0.582090  0.583333\n",
            "14  0.734177  0.710526  0.582090  0.500000\n",
            "15  0.810127  0.842105  0.791045  0.958333\n",
            "16  0.582278  0.815789  0.223881  0.083333\n",
            "17  0.848101  0.789474  0.746269  0.708333\n",
            "18  0.797468  0.894737  0.835821  1.000000\n",
            "19  0.645570  0.921053  0.208955  0.125000\n",
            "20  0.632911  0.947368  0.208955  0.083333\n",
            "21  1.000000  1.000000  0.955224  0.833333\n",
            "22  0.860759  0.736842  0.716418  0.583333\n",
            "['2', 'lowerOut']\n",
            "coverage of dataset:\n",
            "34.78260869565217\n",
            "coverage of label:\n",
            "100.0\n",
            "precision:\n",
            "1.0\n",
            "\n",
            "\n",
            "\n",
            "['1', 'higherOut']\n",
            "coverage of dataset:\n",
            "26.08695652173913\n",
            "coverage of label:\n",
            "71.42857142857143\n",
            "precision:\n",
            "0.8333333333333334\n",
            "\n",
            "\n",
            "\n",
            "['2', 'higherOut']\n",
            "coverage of dataset:\n",
            "8.695652173913043\n",
            "coverage of label:\n",
            "28.57142857142857\n",
            "precision:\n",
            "1.0\n",
            "\n",
            "\n",
            "\n",
            "['3', 'lowerIn']\n",
            "coverage of dataset:\n",
            "8.695652173913043\n",
            "coverage of label:\n",
            "25.0\n",
            "precision:\n",
            "1.0\n",
            "\n",
            "\n",
            "\n",
            "['1', 'higherIn']\n",
            "coverage of dataset:\n",
            "17.391304347826086\n",
            "coverage of label:\n",
            "50.0\n",
            "precision:\n",
            "1.0\n",
            "\n",
            "\n",
            "\n",
            "['0', 'lowerIn', '1', 'lowerIn', '2', 'higherIn', '3', 'higherIn']\n",
            "coverage of dataset:\n",
            "4.3478260869565215\n",
            "coverage of label:\n",
            "12.5\n",
            "precision:\n",
            "1.0\n",
            "\n",
            "\n",
            "\n",
            "b'Iris-setosa'\n",
            "precision:\n",
            "1.0\n",
            "recall:\n",
            "1.0\n",
            "F1:\n",
            "1.0\n",
            "b'Iris-virginica'\n",
            "precision:\n",
            "0.875\n",
            "recall:\n",
            "1.0\n",
            "F1:\n",
            "0.9333333333333333\n",
            "Traceback (most recent call last):\n",
            "  File \"test.py\", line 119, in <module>\n",
            "    corrLabels=y[classification[i]]\n",
            "IndexError: arrays used as indices must be of integer (or boolean) type\n"
          ]
        }
      ],
      "source": [
        "!python test.py iris"
      ]
    }
  ],
  "metadata": {
    "accelerator": "GPU",
    "colab": {
      "collapsed_sections": [],
      "name": "Lab2",
      "provenance": []
    },
    "kernelspec": {
      "display_name": "Python 3",
      "language": "python",
      "name": "python3"
    },
    "language_info": {
      "codemirror_mode": {
        "name": "ipython",
        "version": 3
      },
      "file_extension": ".py",
      "mimetype": "text/x-python",
      "name": "python",
      "nbconvert_exporter": "python",
      "pygments_lexer": "ipython3",
      "version": "3.8.13"
    },
    "pycharm": {
      "stem_cell": {
        "cell_type": "raw",
        "metadata": {
          "collapsed": false
        },
        "source": []
      }
    }
  },
  "nbformat": 4,
  "nbformat_minor": 0
}
